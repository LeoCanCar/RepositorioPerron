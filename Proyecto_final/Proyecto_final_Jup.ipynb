{
 "cells": [
  {
   "cell_type": "markdown",
   "metadata": {},
   "source": [
    "# PROYECTO FINAL"
   ]
  },
  {
   "cell_type": "markdown",
   "metadata": {},
   "source": [
    "El primer problema propuesto (tentativamente) es el siguiente: \"En un sistema cerrado ideal tenemos una carga q1 con carga positiva y que tiene un valor de q1 = 32C, dicha particula se mueve a una velocidad constante paralela al eje de las x despues de cierto tiempo, la particula interactua con un campo magnetico uniforme de 72T. >Porias mencionar que direccion describe dicha carga al momento de entrar en contacto con el campo?\""
   ]
  },
  {
   "cell_type": "markdown",
   "metadata": {},
   "source": [
    "Teoria\n",
    "\n",
    "Partimos de la ecuación de la fuerza magnetica\n",
    "$$\\vec{F}m = q(\\vec{V_x} \\times \\vec{B})$$ \n",
    "Expresión de producto cruz\n",
    "$$|\\vec{F}m| = |q||\\vec{V}x||\\vec{B}|Sen(90°) \\space....... Ec(1)$$ "
   ]
  },
  {
   "cell_type": "markdown",
   "metadata": {},
   "source": [
    "Recurrimos a la ecuación de Fuerza proveniente de la segunda ley de Newton"
   ]
  },
  {
   "cell_type": "markdown",
   "metadata": {},
   "source": [
    "$$F=ma$$\n",
    "Por definición de aceleración.\n",
    "$$a= \\frac{d\\vec{v}}{dt} $$\n",
    "Sustituimos en la ecuación 1\n",
    "$$ m*\\frac{d\\vec{v}}{dt}= |q||\\vec{V}x||\\vec{B}|Sen(90°)$$\n",
    "Y despejamos\n",
    "$$ \\frac{d\\vec{v}}{dt}= |q||\\vec{V}x||\\vec{B}|Sen(90°)*m^{-1} $$"
   ]
  },
  {
   "cell_type": "markdown",
   "metadata": {},
   "source": [
    "$ \\frac{1}{m}=m^{-1}$ Por propiedad de inverso multiplicatvo "
   ]
  },
  {
   "cell_type": "markdown",
   "metadata": {},
   "source": [
    "Dejamos sola la velocidad en x\n",
    "$$ \\frac{d\\vec{v}}{dt}*\\frac{m}{|q||\\vec{B}|Sen(90°)}= |\\vec{V}x| $$"
   ]
  },
  {
   "cell_type": "markdown",
   "metadata": {},
   "source": [
    "$$ |\\vec{V}x|=\\frac{d\\vec{v}}{dt}*\\frac{m}{|q||\\vec{B}|Sen(90°)} $$"
   ]
  },
  {
   "cell_type": "markdown",
   "metadata": {},
   "source": [
    "En el caso de tener un movimento en dos dimensiones, se obtiene la velocidad en $x$ y $y$"
   ]
  },
  {
   "cell_type": "markdown",
   "metadata": {},
   "source": [
    "Dado que el modulo de los vectores solo es la magnitud de los mismos, expresaremos los modulos de los vectores $|\\vec{v}|$ como $v$"
   ]
  },
  {
   "cell_type": "markdown",
   "metadata": {},
   "source": [
    "Regresamos a la ecuación 1\n",
    "$$ m*\\frac{d\\vec{v}}{dt}= q*\\vec{V}x*\\vec{B}*Sen(90°)$$\n",
    "Dado que $\\vec{V}x$ solo está en x, tomaremos al vector $\\vec{V}x$ como la velocidad en $x$ y $y$\n",
    "$$ m*\\frac{d\\vec{v}}{dt}= q*\\vec{V}*\\vec{B}*Sen(90°)$$\n",
    "Haciendo el producto cruz, obtenemos que: \n",
    "$$ m*\\frac{d\\vec{v}}{dt}= q*(v_y\\hat{x} - v_x\\hat{y})B$$"
   ]
  },
  {
   "cell_type": "markdown",
   "metadata": {},
   "source": [
    "Para x\n",
    "$$ \\frac{d\\vec{v_x}}{dt}= \\frac{q*B}{m}v_y$$"
   ]
  },
  {
   "cell_type": "markdown",
   "metadata": {},
   "source": [
    "Despejamos para obtener $ v_y$\n",
    "$$ v_y= \\frac{m}{q*B}\\frac{dv_x}{dt} ........ Ec(2)$$"
   ]
  },
  {
   "cell_type": "markdown",
   "metadata": {},
   "source": [
    "Para y\n",
    "$$\\frac{dv_y}{dt} = -\\frac{q*B}{m}v_x .......Ec(3)$$"
   ]
  },
  {
   "cell_type": "markdown",
   "metadata": {},
   "source": [
    "Sustituimos Ec 2 En Ec 3\n",
    "\n",
    "$$\\frac{d\\frac{m}{q*B}\\frac{dv_x}{dt}}{dt} = -\\frac{q*B}{m}v_x$$\n",
    "\n",
    "$$\\frac{m}{q*B}*\\frac{d\\frac{dv_x}{dt}}{dt} = -\\frac{q*B}{m}v_x$$\n",
    "\n",
    "$$\\frac{m}{q*B}*\\frac{d^{2}v_x}{dt^{2}} = -\\frac{q*B}{m}v_x$$\n",
    "\n",
    "$$\\frac{d^{2}v_x}{dt^{2}} = -(\\frac{q*B}{m})^{2}v_x$$\n",
    "\n",
    "$$\\frac{d^{2}v_x}{dt^{2}} + (\\frac{q*B}{m})^{2}v_x= 0$$"
   ]
  },
  {
   "cell_type": "markdown",
   "metadata": {},
   "source": [
    "Para la velocidad en $x$ y en $y$ respecto al tiempo\n",
    "\n",
    "$$ v_x(t)=v_0 \\cdot Sen(\\frac{qB}{m}t)$$\n",
    "\n",
    "$$ v_y(t)=v_0 \\cdot Cos(\\frac{qB}{m}t)$$"
   ]
  },
  {
   "cell_type": "markdown",
   "metadata": {},
   "source": [
    "Integramos las expresiones para obtener las ecuaciones de posición respecto al tiempo.\n",
    "\n",
    "$$ x(t)=\\frac{mv_0}{qB} \\cdot Sen(\\frac{qB}{m}t)+x_0$$\n",
    "\n",
    "$$ y(t)=-\\frac{mv_0}{qB} \\cdot Cos(\\frac{qB}{m}t)+y_0$$"
   ]
  },
  {
   "cell_type": "markdown",
   "metadata": {},
   "source": [
    "---\n",
    "# Trayectoria de una particula cargada bajo el efecto de un campo magnético"
   ]
  },
  {
   "cell_type": "markdown",
   "metadata": {},
   "source": [
    "## Bibliotecas"
   ]
  },
  {
   "cell_type": "code",
   "execution_count": 1,
   "metadata": {},
   "outputs": [],
   "source": [
    "import matplotlib.pyplot as plt \n",
    "import numpy as np\n",
    "from mpl_toolkits.mplot3d import axes3d\n",
    "import string\n",
    "#import random\n",
    "#import sys\n",
    "from pip._vendor.distlib.compat import raw_input\n",
    "from math import sin\n",
    "from math import cos\n",
    "import math as ma\n",
    "import matplotlib.animation as animation"
   ]
  },
  {
   "cell_type": "markdown",
   "metadata": {},
   "source": [
    "## Ingresando los datos"
   ]
  },
  {
   "cell_type": "code",
   "execution_count": 2,
   "metadata": {},
   "outputs": [
    {
     "name": "stdout",
     "output_type": "stream",
     "text": [
      "Este programa calcula y grafica la trayectoria que sigue una partícula cargada que se mueve en el eje x al entrar en interacción con un campo megnatico en dirección del eje z.\n",
      "Ingrese solo los valores que se le piden sin unidades.\n",
      "La masa está en kilogramos, la carga en coulombs, la velocidad en metro sobre segundo.\n"
     ]
    },
    {
     "name": "stdin",
     "output_type": "stream",
     "text": [
      "Ingrese la masa de la partícula:\n",
      " 0.00008\n",
      "Ingrese la carga de la partícula:\n",
      " -4\n",
      "Ingrese la posición de la carga separada por espacios:\n",
      " 0 0 0\n",
      "Ingrese la velocidad inicial de la partícula separada por espacios:\n",
      " 100\n"
     ]
    },
    {
     "name": "stdout",
     "output_type": "stream",
     "text": [
      "Ingrese velocidad en tres entradas para que haya movimiento en la partícula.\n"
     ]
    },
    {
     "name": "stdin",
     "output_type": "stream",
     "text": [
      "Ingrese la velocidad inicial de la partícula separada por espacios:\n",
      " 100 0 0\n",
      "Ingrese el campo magnetico separado por espacios:\n",
      " 0 0 200\n"
     ]
    },
    {
     "name": "stdout",
     "output_type": "stream",
     "text": [
      "8e-05\n",
      "-4.0\n",
      "[0 0 0]\n",
      "[100   0   0]\n",
      "[  0   0 200]\n"
     ]
    }
   ],
   "source": [
    "masa = 1\n",
    "carga = 1\n",
    "posicion = np.array([-1000, 0, -1000])\n",
    "velocidad = np.array([0, 0, 0])\n",
    "B = np.array([0, 0, 0])\n",
    "print(\"Este programa calcula y grafica la trayectoria que sigue una partícula cargada que se mueve en el eje x al entrar en interacción con un campo megnatico en dirección del eje z.\")\n",
    "print(\"Ingrese solo los valores que se le piden sin unidades.\")\n",
    "print(\"La masa está en kilogramos, la carga en coulombs, la velocidad en metro sobre segundo.\")\n",
    "while True:\n",
    "    texto = raw_input(\"Ingrese la masa de la partícula:\\n\")\n",
    "    masa = float(texto)\n",
    "    if masa == 0:\n",
    "        print(\"Dato erroneo. La partícula debe tener masa.\")\n",
    "    else:\n",
    "        break\n",
    "while True:\n",
    "    texto = raw_input(\"Ingrese la carga de la partícula:\\n\")\n",
    "    carga = float(texto)\n",
    "    if carga == 0:\n",
    "        print(\"Dato erroneo. La partícula debe tener carga.\")\n",
    "    else:\n",
    "        break\n",
    "while True:\n",
    "    texto = raw_input(\"Ingrese la posición de la carga separada por espacios:\\n\")\n",
    "    ind = texto.split(\" \")\n",
    "    if len(ind) != 3:\n",
    "        print(\"Ingrese tres entradas.\")\n",
    "    else:\n",
    "        posicion[0] = float(ind[0])\n",
    "        posicion[1] = float(ind[1])\n",
    "        posicion[2] = float(ind[2])\n",
    "        break\n",
    "while True:\n",
    "    texto = raw_input(\"Ingrese la velocidad inicial de la partícula separada por espacios:\\n\")\n",
    "    ind = texto.split(\" \")\n",
    "    if len(ind) != 3:\n",
    "        print(\"Ingrese velocidad en tres entradas para que haya movimiento en la partícula.\")\n",
    "    else:\n",
    "        velocidad[0] = float(ind[0])\n",
    "        velocidad[1] = float(ind[1])\n",
    "        velocidad[2] = float(ind[2])\n",
    "        break\n",
    "while True:\n",
    "    texto = raw_input(\"Ingrese el campo magnetico separado por espacios:\\n\")\n",
    "    ind = texto.split(\" \")\n",
    "    if len(ind) != 3:\n",
    "        print(\"Ingrese el campo en tres entradas para que haya interacción.\")\n",
    "    else:\n",
    "        B[0] = float(ind[0])\n",
    "        B[1] = float(ind[1])\n",
    "        B[2] = float(ind[2])\n",
    "        break\n",
    "        \n",
    "print(masa)\n",
    "print(carga)\n",
    "print(posicion)\n",
    "print(velocidad)\n",
    "print(B)"
   ]
  },
  {
   "cell_type": "code",
   "execution_count": 3,
   "metadata": {},
   "outputs": [
    {
     "name": "stdout",
     "output_type": "stream",
     "text": [
      "-1e-05\n",
      "-10000000.0\n",
      "100.0\n",
      "200.0\n"
     ]
    }
   ],
   "source": [
    "v0 = float(ma.sqrt((velocidad[0])**2 +(velocidad[1])**2 + (velocidad[2])**2))\n",
    "B2 = float(ma.sqrt((B[0])**2 +(B[1])**2 + (B[2])**2))\n",
    "k = float(((masa*v0)/(carga*B2)))\n",
    "k2 = float((carga*B2)/masa)\n",
    "\n",
    "print(k)\n",
    "print(k2)\n",
    "print(v0)\n",
    "print(B2)"
   ]
  },
  {
   "cell_type": "markdown",
   "metadata": {},
   "source": [
    "$$ x(t)=\\frac{mv_0}{qB} \\cdot Sen(\\frac{qB}{m}t)+x_0$$\n",
    "\n",
    "$$ y(t)=-\\frac{mv_0}{qB} \\cdot Cos(\\frac{qB}{m}t)+y_0$$"
   ]
  },
  {
   "cell_type": "markdown",
   "metadata": {},
   "source": [
    "# Caso particular de una particular moviendose en $x$ y un campo magnetico en $z$\n",
    "## Grafica del movimiento"
   ]
  },
  {
   "cell_type": "code",
   "execution_count": 4,
   "metadata": {},
   "outputs": [
    {
     "data": {
      "text/plain": [
       "<function matplotlib.pyplot.show(*args, **kw)>"
      ]
     },
     "execution_count": 4,
     "metadata": {},
     "output_type": "execute_result"
    },
    {
     "data": {
      "image/png": "[encoded data removed]",
      "text/plain": [
       "<Figure size 432x288 with 1 Axes>"
      ]
     },
     "metadata": {
      "needs_background": "light"
     },
     "output_type": "display_data"
    }
   ],
   "source": [
    "x=[]\n",
    "y=[]\n",
    "z=[]\n",
    "\n",
    "t = np.linspace(0,10,100)\n",
    "\n",
    "for i in t:\n",
    "    x.append(float((k)*sin(np.deg2rad(k2*i))+posicion[0]))\n",
    "    y.append(float((-(k)*cos(np.deg2rad(k2*i)))+posicion[1]))\n",
    "    z.append(0*i+posicion[2])\n",
    "#print(x)\n",
    "#print(y)\n",
    "\n",
    "fig=plt.figure(\"Trayectoria\")\n",
    "ax=fig.gca(projection=\"3d\")\n",
    "\n",
    "ax.plot(x,y,z,\".\")\n",
    "plt.title(\"Trayectoria de la partícula\", fontsize=8, fontweight='bold')\n",
    "ax.set_xlabel('Eje X')\n",
    "ax.set_ylabel('Eje Y')\n",
    "ax.set_zlabel('Eje Z')\n",
    "\n",
    "plt.show"
   ]
  },
  {
   "cell_type": "code",
   "execution_count": null,
   "metadata": {},
   "outputs": [],
   "source": []
  }
 ],
 "metadata": {
  "kernelspec": {
   "display_name": "Python 3",
   "language": "python",
   "name": "python3"
  },
  "language_info": {
   "codemirror_mode": {
    "name": "ipython",
    "version": 3
   },
   "file_extension": ".py",
   "mimetype": "text/x-python",
   "name": "python",
   "nbconvert_exporter": "python",
   "pygments_lexer": "ipython3",
   "version": "3.8.3"
  }
 },
 "nbformat": 4,
 "nbformat_minor": 4
}
